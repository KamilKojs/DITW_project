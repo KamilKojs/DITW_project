{
 "cells": [
  {
   "cell_type": "markdown",
   "metadata": {},
   "source": [
    "# Correlation analysis\n",
    "\n",
    "The aim of this notebook is to find whether there is any correlation between racial\n",
    "\n",
    "diversity of the main cast of a film and the overall sentiment observed in tweets associated.\n"
   ]
  },
  {
   "cell_type": "code",
   "execution_count": 5,
   "metadata": {},
   "outputs": [],
   "source": [
    "import pandas as pd\n",
    "import numpy as np\n",
    "import os\n",
    "from matplotlib import pyplot"
   ]
  },
  {
   "cell_type": "markdown",
   "metadata": {},
   "source": [
    "## Metrics\n",
    "\n",
    "In order to do so, we have calculated several metrics for each film:\n",
    "\n",
    "* _Diversity score_: proportion of non-white actor in starring cast\n",
    "* _Sentiment score_: $ \\sum_{i=1}^{n}\\sum_{j=1}^{3}a_j \\cdot p_{ij} $, where n is the number of tweets, $p_i$ is the probability or \"score\" given to each possible class (negative, neutral and positive) by the model and $a_{j}$ is a weight for each cattegory (-1, 0 and 1)  \n",
    "\n"
   ]
  },
  {
   "cell_type": "code",
   "execution_count": 4,
   "metadata": {},
   "outputs": [
    {
     "data": {
      "text/html": [
       "<div>\n",
       "<style scoped>\n",
       "    .dataframe tbody tr th:only-of-type {\n",
       "        vertical-align: middle;\n",
       "    }\n",
       "\n",
       "    .dataframe tbody tr th {\n",
       "        vertical-align: top;\n",
       "    }\n",
       "\n",
       "    .dataframe thead th {\n",
       "        text-align: right;\n",
       "    }\n",
       "</style>\n",
       "<table border=\"1\" class=\"dataframe\">\n",
       "  <thead>\n",
       "    <tr style=\"text-align: right;\">\n",
       "      <th></th>\n",
       "      <th>id</th>\n",
       "      <th>film_name</th>\n",
       "      <th>n_nonwhite</th>\n",
       "      <th>n_actors</th>\n",
       "      <th>diversity_score</th>\n",
       "      <th>perc_negative</th>\n",
       "      <th>perc_neutral</th>\n",
       "      <th>perc_positive</th>\n",
       "      <th>neg_score_avg</th>\n",
       "      <th>neutr_score_avg</th>\n",
       "      <th>pos_score_avg</th>\n",
       "      <th>sentiment_score</th>\n",
       "      <th>n_tweets</th>\n",
       "    </tr>\n",
       "  </thead>\n",
       "  <tbody>\n",
       "    <tr>\n",
       "      <th>0</th>\n",
       "      <td>1</td>\n",
       "      <td>The Little Mermaid (2023 film)</td>\n",
       "      <td>5</td>\n",
       "      <td>9</td>\n",
       "      <td>0.556</td>\n",
       "      <td>1.35</td>\n",
       "      <td>52.50</td>\n",
       "      <td>46.15</td>\n",
       "      <td>0.04</td>\n",
       "      <td>0.49</td>\n",
       "      <td>0.47</td>\n",
       "      <td>0.4357</td>\n",
       "      <td>520.0</td>\n",
       "    </tr>\n",
       "    <tr>\n",
       "      <th>1</th>\n",
       "      <td>2</td>\n",
       "      <td>Ghost in the Shell (2017 film)</td>\n",
       "      <td>1</td>\n",
       "      <td>6</td>\n",
       "      <td>0.167</td>\n",
       "      <td>14.90</td>\n",
       "      <td>47.54</td>\n",
       "      <td>37.56</td>\n",
       "      <td>0.14</td>\n",
       "      <td>0.46</td>\n",
       "      <td>0.39</td>\n",
       "      <td>0.2543</td>\n",
       "      <td>631.0</td>\n",
       "    </tr>\n",
       "    <tr>\n",
       "      <th>2</th>\n",
       "      <td>3</td>\n",
       "      <td>The Witcher (TV series)</td>\n",
       "      <td>4</td>\n",
       "      <td>14</td>\n",
       "      <td>0.286</td>\n",
       "      <td>4.81</td>\n",
       "      <td>49.62</td>\n",
       "      <td>45.58</td>\n",
       "      <td>0.05</td>\n",
       "      <td>0.48</td>\n",
       "      <td>0.47</td>\n",
       "      <td>0.4201</td>\n",
       "      <td>520.0</td>\n",
       "    </tr>\n",
       "    <tr>\n",
       "      <th>3</th>\n",
       "      <td>4</td>\n",
       "      <td>Bridgerton</td>\n",
       "      <td>6</td>\n",
       "      <td>27</td>\n",
       "      <td>0.222</td>\n",
       "      <td>10.68</td>\n",
       "      <td>47.08</td>\n",
       "      <td>42.24</td>\n",
       "      <td>0.11</td>\n",
       "      <td>0.45</td>\n",
       "      <td>0.44</td>\n",
       "      <td>0.3278</td>\n",
       "      <td>10000.0</td>\n",
       "    </tr>\n",
       "    <tr>\n",
       "      <th>4</th>\n",
       "      <td>5</td>\n",
       "      <td>Inception</td>\n",
       "      <td>1</td>\n",
       "      <td>9</td>\n",
       "      <td>0.111</td>\n",
       "      <td>11.64</td>\n",
       "      <td>39.29</td>\n",
       "      <td>49.06</td>\n",
       "      <td>0.11</td>\n",
       "      <td>0.39</td>\n",
       "      <td>0.50</td>\n",
       "      <td>0.3838</td>\n",
       "      <td>481.0</td>\n",
       "    </tr>\n",
       "    <tr>\n",
       "      <th>5</th>\n",
       "      <td>6</td>\n",
       "      <td>The Wolf of Wall Street (2013 film)</td>\n",
       "      <td>0</td>\n",
       "      <td>9</td>\n",
       "      <td>0.000</td>\n",
       "      <td>14.85</td>\n",
       "      <td>28.95</td>\n",
       "      <td>56.20</td>\n",
       "      <td>0.14</td>\n",
       "      <td>0.31</td>\n",
       "      <td>0.55</td>\n",
       "      <td>0.4054</td>\n",
       "      <td>532.0</td>\n",
       "    </tr>\n",
       "    <tr>\n",
       "      <th>6</th>\n",
       "      <td>7</td>\n",
       "      <td>Mad Max: Fury Road</td>\n",
       "      <td>0</td>\n",
       "      <td>9</td>\n",
       "      <td>0.000</td>\n",
       "      <td>7.04</td>\n",
       "      <td>46.03</td>\n",
       "      <td>46.93</td>\n",
       "      <td>0.08</td>\n",
       "      <td>0.44</td>\n",
       "      <td>0.48</td>\n",
       "      <td>0.4088</td>\n",
       "      <td>10000.0</td>\n",
       "    </tr>\n",
       "  </tbody>\n",
       "</table>\n",
       "</div>"
      ],
      "text/plain": [
       "   id                            film_name  n_nonwhite  n_actors  \\\n",
       "0   1       The Little Mermaid (2023 film)           5         9   \n",
       "1   2       Ghost in the Shell (2017 film)           1         6   \n",
       "2   3              The Witcher (TV series)           4        14   \n",
       "3   4                           Bridgerton           6        27   \n",
       "4   5                            Inception           1         9   \n",
       "5   6  The Wolf of Wall Street (2013 film)           0         9   \n",
       "6   7                   Mad Max: Fury Road           0         9   \n",
       "\n",
       "   diversity_score  perc_negative  perc_neutral  perc_positive  neg_score_avg  \\\n",
       "0            0.556           1.35         52.50          46.15           0.04   \n",
       "1            0.167          14.90         47.54          37.56           0.14   \n",
       "2            0.286           4.81         49.62          45.58           0.05   \n",
       "3            0.222          10.68         47.08          42.24           0.11   \n",
       "4            0.111          11.64         39.29          49.06           0.11   \n",
       "5            0.000          14.85         28.95          56.20           0.14   \n",
       "6            0.000           7.04         46.03          46.93           0.08   \n",
       "\n",
       "   neutr_score_avg  pos_score_avg  sentiment_score  n_tweets  \n",
       "0             0.49           0.47           0.4357     520.0  \n",
       "1             0.46           0.39           0.2543     631.0  \n",
       "2             0.48           0.47           0.4201     520.0  \n",
       "3             0.45           0.44           0.3278   10000.0  \n",
       "4             0.39           0.50           0.3838     481.0  \n",
       "5             0.31           0.55           0.4054     532.0  \n",
       "6             0.44           0.48           0.4088   10000.0  "
      ]
     },
     "execution_count": 4,
     "metadata": {},
     "output_type": "execute_result"
    }
   ],
   "source": [
    "# Put your absolute pat to the project here\n",
    "project_path = '/home/jorge/Insync/jorgitoje@gmail.com/OneDrive/Documentos/JORGE/EDUCATION/MASTER_DATASCIENCE/Semester1/DataintheWild/GroupProject/DITW_project'\n",
    "\n",
    "data = pd.read_csv(os.path.join(project_path, 'data/movies_with_scores.csv'), sep=\";\",\n",
    "                    encoding='latin-1')\n",
    "\n",
    "data"
   ]
  },
  {
   "cell_type": "markdown",
   "metadata": {},
   "source": [
    "## Visual inspection"
   ]
  },
  {
   "cell_type": "code",
   "execution_count": 9,
   "metadata": {},
   "outputs": [
    {
     "data": {
      "text/plain": [
       "<matplotlib.collections.PathCollection at 0x7f12730c5d20>"
      ]
     },
     "execution_count": 9,
     "metadata": {},
     "output_type": "execute_result"
    },
    {
     "data": {
      "image/png": "[encoded data removed]",
      "text/plain": [
       "<Figure size 640x480 with 1 Axes>"
      ]
     },
     "metadata": {},
     "output_type": "display_data"
    }
   ],
   "source": [
    "pyplot.scatter(data['sentiment_score'],data['diversity_score'])"
   ]
  },
  {
   "cell_type": "code",
   "execution_count": null,
   "metadata": {},
   "outputs": [],
   "source": [
    "data_withrace = data[]\n",
    "pyplot.scatter(data_withrace['sentiment_score'],data_withrace['diversity_score'])"
   ]
  }
 ],
 "metadata": {
  "kernelspec": {
   "display_name": "Python 3.10.6 ('venv': venv)",
   "language": "python",
   "name": "python3"
  },
  "language_info": {
   "codemirror_mode": {
    "name": "ipython",
    "version": 3
   },
   "file_extension": ".py",
   "mimetype": "text/x-python",
   "name": "python",
   "nbconvert_exporter": "python",
   "pygments_lexer": "ipython3",
   "version": "3.10.6"
  },
  "orig_nbformat": 4,
  "vscode": {
   "interpreter": {
    "hash": "76fd90c1440c5d6a08e78a2c137a7a772e635e3357ca64848614be36381b02f0"
   }
  }
 },
 "nbformat": 4,
 "nbformat_minor": 2
}
