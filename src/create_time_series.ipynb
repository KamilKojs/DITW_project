{
 "cells": [
  {
   "cell_type": "code",
   "execution_count": 11,
   "metadata": {},
   "outputs": [],
   "source": [
    "import pandas as pd\n",
    "import os\n",
    "import pathlib\n",
    "import numpy as np"
   ]
  },
  {
   "cell_type": "code",
   "execution_count": 12,
   "metadata": {},
   "outputs": [],
   "source": [
    "bridgerton_path = 'C:\\\\Users\\\\Juliu\\\\OneDrive\\\\ITU\\\\1st Semester\\\\DataInTheWild\\\\Project\\\\DITW_project\\\\data\\\\twitter\\\\bridgerton\\\\bridgerton_sentiment_date.csv'\n",
    "inception_path = \"C:\\\\Users\\\\Juliu\\\\OneDrive\\\\ITU\\\\1st Semester\\\\DataInTheWild\\\\Project\\\\DITW_project\\\\data\\\\twitter\\\\inception\\\\inception_sentiment_date.csv\"\n",
    "littlemermaid_path = \"C:\\\\Users\\\\Juliu\\\\OneDrive\\\\ITU\\\\1st Semester\\\\DataInTheWild\\\\Project\\\\DITW_project\\\\data\\\\twitter\\\\little_mermaid\\\\little_mermaid_sentiment_date.csv\"\n",
    "madmax_path = \"C:\\\\Users\\\\Juliu\\\\OneDrive\\\\ITU\\\\1st Semester\\\\DataInTheWild\\\\Project\\\\DITW_project\\\\data\\\\twitter\\\\mad_max_fury_road\\\\mad_max_fury_road_sentiment_date.csv\"\n",
    "witcher_path = \"C:\\\\Users\\\\Juliu\\\\OneDrive\\\\ITU\\\\1st Semester\\\\DataInTheWild\\\\Project\\\\DITW_project\\\\data\\\\twitter\\\\thewitcher\\\\thewitcher_sentiment_date.csv\"\n",
    "wolf_path = \"C:\\\\Users\\\\Juliu\\\\OneDrive\\\\ITU\\\\1st Semester\\\\DataInTheWild\\\\Project\\\\DITW_project\\\\data\\\\twitter\\\\wolf_of_wall_street\\\\wolf_of_wall_street_sentiment_date.csv\"\n"
   ]
  },
  {
   "cell_type": "code",
   "execution_count": 50,
   "metadata": {},
   "outputs": [
    {
     "name": "stdout",
     "output_type": "stream",
     "text": [
      "2574\n",
      "9995\n",
      "   index  Unnamed: 0.2  Unnamed: 0.1  Unnamed: 0            id    author_id  \\\n",
      "0  80913            68            68          68  4.833252e+17  362646520.0   \n",
      "1  21415          6789          6789        6787  4.270487e+17  370593217.0   \n",
      "2  62955          6545          6545        6540  4.424116e+17  445182324.0   \n",
      "3  17331          2705          2705        2705  4.282630e+17  307525685.0   \n",
      "4  20936          6310          6310        6308  4.271645e+17  286124480.0   \n",
      "\n",
      "   like_count  quote_count  reply_count  retweet_count  referenced_tweet_id  \\\n",
      "0         0.0          0.0          0.0            0.0                  NaN   \n",
      "1         0.0          0.0          0.0            0.0                  NaN   \n",
      "2         0.0          0.0          0.0            0.0                  NaN   \n",
      "3         0.0          0.0          0.0           18.0         4.282398e+17   \n",
      "4         0.0          0.0          0.0            0.0                  NaN   \n",
      "\n",
      "  referenced_tweet_type                                               text  \\\n",
      "0                   NaN  Finally getting round to watching #wolfofwalls...   \n",
      "1                   NaN  Wolf of Wall Street!! #epic #mint #leo #love #...   \n",
      "2                   NaN     This movie is bare laugh lml #WolfofWallStreet   \n",
      "3             retweeted  RT @rmcgowan89: Date night with @lauponton tre...   \n",
      "4                   NaN  her pussy was like heroin too me hahahhaa haha...   \n",
      "\n",
      "   negative  neutral  positive        date  \n",
      "0    0.0018   0.0135    0.9847         0.0  \n",
      "1    0.0033   0.0466    0.9501  2014-01-25  \n",
      "2    0.6058   0.2592    0.1351  2014-03-08  \n",
      "3    0.0028   0.2918    0.7054  2014-01-28  \n",
      "4    0.2625   0.4076    0.3299  2014-01-25  \n"
     ]
    }
   ],
   "source": [
    "df = pd.read_csv(wolf_path, sep=\"\\t\")\n",
    "# calculating amount of missing dates\n",
    "print(sum((df['date']==\"0.0\").astype(int)))\n",
    "print(len(df))\n",
    "print(df.head())\n"
   ]
  },
  {
   "cell_type": "code",
   "execution_count": null,
   "metadata": {},
   "outputs": [],
   "source": []
  }
 ],
 "metadata": {
  "kernelspec": {
   "display_name": "Python 3.10.8 ('.venv': venv)",
   "language": "python",
   "name": "python3"
  },
  "language_info": {
   "codemirror_mode": {
    "name": "ipython",
    "version": 3
   },
   "file_extension": ".py",
   "mimetype": "text/x-python",
   "name": "python",
   "nbconvert_exporter": "python",
   "pygments_lexer": "ipython3",
   "version": "3.10.8"
  },
  "orig_nbformat": 4,
  "vscode": {
   "interpreter": {
    "hash": "7e541fc2e84bad8c330b4b42bd3dbef78d9dc2b27fade6fccbfce0b1f075694e"
   }
  }
 },
 "nbformat": 4,
 "nbformat_minor": 2
}
