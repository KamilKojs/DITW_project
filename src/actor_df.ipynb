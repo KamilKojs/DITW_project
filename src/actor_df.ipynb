{
 "cells": [
  {
   "cell_type": "code",
   "execution_count": 5,
   "metadata": {},
   "outputs": [
    {
     "data": {
      "text/plain": [
       "{'1': {'title': 'Exodus: Gods and Kings',\n",
       "  'url': 'https://en.wikipedia.org/wiki/Exodus%3A%20Gods%20and%20Kings',\n",
       "  'year': '2014',\n",
       "  'poster': 'https://upload.wikimedia.org/wikipedia/en/thumb/c/cd/Exodus2014Poster.jpg/220px-Exodus2014Poster.jpg',\n",
       "  'actors': ['Christian Bale',\n",
       "   'Joel Edgerton',\n",
       "   'John Turturro',\n",
       "   'Aaron Paul',\n",
       "   'Ben Mendelsohn',\n",
       "   'Sigourney Weaver',\n",
       "   'Ben Kingsley'],\n",
       "  'actors_urls': ['https://en.wikipedia.org/wiki/Christian_Bale',\n",
       "   'https://en.wikipedia.org/wiki/Joel_Edgerton',\n",
       "   'https://en.wikipedia.org/wiki/John_Turturro',\n",
       "   'https://en.wikipedia.org/wiki/Aaron_Paul',\n",
       "   'https://en.wikipedia.org/wiki/Ben_Mendelsohn',\n",
       "   'https://en.wikipedia.org/wiki/Sigourney_Weaver',\n",
       "   'https://en.wikipedia.org/wiki/Ben_Kingsley']},\n",
       " '2': {'title': 'The Little Mermaid (2023 film)',\n",
       "  'url': 'https://en.wikipedia.org/wiki/The%20Little%20Mermaid%20%282023%20film%29',\n",
       "  'year': '2023',\n",
       "  'poster': 'https://upload.wikimedia.org/wikipedia/en/thumb/f/f4/The_Little_Mermaid_%282023_film%29.png/220px-The_Little_Mermaid_%282023_film%29.png',\n",
       "  'actors': ['Halle Bailey',\n",
       "   'Jonah Hauer-King',\n",
       "   'Daveed Diggs',\n",
       "   'Jacob Tremblay',\n",
       "   'Awkwafina',\n",
       "   'Art Malik',\n",
       "   'Noma Dumezweni',\n",
       "   'Javier Bardem',\n",
       "   'Melissa McCarthy'],\n",
       "  'actors_urls': ['https://en.wikipedia.org/wiki/Halle_Bailey',\n",
       "   'https://en.wikipedia.org/wiki/Jonah_Hauer-King',\n",
       "   'https://en.wikipedia.org/wiki/Daveed_Diggs',\n",
       "   'https://en.wikipedia.org/wiki/Jacob_Tremblay',\n",
       "   'https://en.wikipedia.org/wiki/Awkwafina',\n",
       "   'https://en.wikipedia.org/wiki/Art_Malik',\n",
       "   'https://en.wikipedia.org/wiki/Noma_Dumezweni',\n",
       "   'https://en.wikipedia.org/wiki/Javier_Bardem',\n",
       "   'https://en.wikipedia.org/wiki/Melissa_McCarthy']},\n",
       " '3': {'title': 'Ghost in the Shell (2017 film)',\n",
       "  'url': 'https://en.wikipedia.org/wiki/Ghost%20in%20the%20Shell%20%282017%20film%29',\n",
       "  'year': '2017',\n",
       "  'poster': 'https://upload.wikimedia.org/wikipedia/en/thumb/1/11/Ghost_in_the_Shell_%282017_film%29.png/220px-Ghost_in_the_Shell_%282017_film%29.png',\n",
       "  'actors': ['Scarlett Johansson',\n",
       "   'Takeshi Kitano',\n",
       "   'Michael Pitt',\n",
       "   'Pilou Asbæk',\n",
       "   'Chin Han (actor, born 1969)',\n",
       "   'Juliette Binoche'],\n",
       "  'actors_urls': ['https://en.wikipedia.org/wiki/Scarlett_Johansson',\n",
       "   'https://en.wikipedia.org/wiki/Takeshi_Kitano',\n",
       "   'https://en.wikipedia.org/wiki/Michael_Pitt',\n",
       "   'https://en.wikipedia.org/wiki/Pilou_Asb%C3%A6k',\n",
       "   'https://en.wikipedia.org/wiki/Chin_Han_(actor,_born_1969)',\n",
       "   'https://en.wikipedia.org/wiki/Juliette_Binoche']},\n",
       " '4': {'title': 'Aloha (2015 film)',\n",
       "  'url': 'https://en.wikipedia.org/wiki/Aloha%20%282015%20film%29',\n",
       "  'year': '2015',\n",
       "  'poster': 'https://upload.wikimedia.org/wikipedia/en/thumb/7/73/Aloha_poster.jpg/220px-Aloha_poster.jpg',\n",
       "  'actors': ['Bradley Cooper',\n",
       "   'Emma Stone',\n",
       "   'Rachel McAdams',\n",
       "   'Bill Murray',\n",
       "   'John Krasinski',\n",
       "   'Danny McBride',\n",
       "   'Alec Baldwin'],\n",
       "  'actors_urls': ['https://en.wikipedia.org/wiki/Bradley_Cooper',\n",
       "   'https://en.wikipedia.org/wiki/Emma_Stone',\n",
       "   'https://en.wikipedia.org/wiki/Rachel_McAdams',\n",
       "   'https://en.wikipedia.org/wiki/Bill_Murray',\n",
       "   'https://en.wikipedia.org/wiki/John_Krasinski',\n",
       "   'https://en.wikipedia.org/wiki/Danny_McBride',\n",
       "   'https://en.wikipedia.org/wiki/Alec_Baldwin']},\n",
       " '5': {'title': 'Stonewall (2015 film)',\n",
       "  'url': 'https://en.wikipedia.org/wiki/Stonewall%20%282015%20film%29',\n",
       "  'year': '2015',\n",
       "  'poster': 'https://upload.wikimedia.org/wikipedia/en/thumb/3/37/Stonewall_%282015_film%29_poster.jpg/220px-Stonewall_%282015_film%29_poster.jpg',\n",
       "  'actors': ['Jeremy Irvine',\n",
       "   'Jonny Beauchamp',\n",
       "   'Joey King',\n",
       "   'Caleb Landry Jones',\n",
       "   'Matt Craven',\n",
       "   'Jonathan Rhys Meyers',\n",
       "   'Ron Perlman'],\n",
       "  'actors_urls': ['https://en.wikipedia.org/wiki/Jeremy_Irvine',\n",
       "   '',\n",
       "   'https://en.wikipedia.org/wiki/Joey_King',\n",
       "   'https://en.wikipedia.org/wiki/Caleb_Landry_Jones',\n",
       "   'https://en.wikipedia.org/wiki/Matt_Craven',\n",
       "   'https://en.wikipedia.org/wiki/Jonathan_Rhys_Meyers',\n",
       "   'https://en.wikipedia.org/wiki/Ron_Perlman']},\n",
       " '6': {'title': 'Gods of Egypt (film)',\n",
       "  'url': 'https://en.wikipedia.org/wiki/Gods%20of%20Egypt%20%28film%29',\n",
       "  'year': '2016',\n",
       "  'poster': 'https://upload.wikimedia.org/wikipedia/en/thumb/2/2f/Gods_of_Egypt_poster.jpg/220px-Gods_of_Egypt_poster.jpg',\n",
       "  'actors': ['Nikolaj Coster-Waldau',\n",
       "   'Brenton Thwaites',\n",
       "   'Chadwick Boseman',\n",
       "   'Élodie Yung',\n",
       "   'Courtney Eaton',\n",
       "   'Rufus Sewell',\n",
       "   'Gerard Butler',\n",
       "   'Geoffrey Rush'],\n",
       "  'actors_urls': ['https://en.wikipedia.org/wiki/Nikolaj_Coster-Waldau',\n",
       "   'https://en.wikipedia.org/wiki/Brenton_Thwaites',\n",
       "   'https://en.wikipedia.org/wiki/Chadwick_Boseman',\n",
       "   'https://en.wikipedia.org/wiki/%C3%89lodie_Yung',\n",
       "   'https://en.wikipedia.org/wiki/Courtney_Eaton',\n",
       "   'https://en.wikipedia.org/wiki/Rufus_Sewell',\n",
       "   'https://en.wikipedia.org/wiki/Gerard_Butler',\n",
       "   'https://en.wikipedia.org/wiki/Geoffrey_Rush']}}"
      ]
     },
     "execution_count": 5,
     "metadata": {},
     "output_type": "execute_result"
    }
   ],
   "source": [
    "import pandas as pd\n",
    "import json\n",
    "from pandas import json_normalize\n",
    "\n",
    "# Or relative path, does not work sometimes\n",
    "#json_path = 'data\\black_actors.csv'\n",
    "data = json.load(open('D:\\ITU\\DataintheWild\\Project\\DITW_project-master\\data\\metadata\\movies_metadata.json'))\n",
    "data"
   ]
  },
  {
   "cell_type": "code",
   "execution_count": 6,
   "metadata": {},
   "outputs": [
    {
     "name": "stdout",
     "output_type": "stream",
     "text": [
      "                         Actors\n",
      "0                Christian Bale\n",
      "1                 Joel Edgerton\n",
      "2                 John Turturro\n",
      "3                    Aaron Paul\n",
      "4                Ben Mendelsohn\n",
      "5              Sigourney Weaver\n",
      "6                  Ben Kingsley\n",
      "7                  Halle Bailey\n",
      "8              Jonah Hauer-King\n",
      "9                  Daveed Diggs\n",
      "10               Jacob Tremblay\n",
      "11                    Awkwafina\n",
      "12                    Art Malik\n",
      "13               Noma Dumezweni\n",
      "14                Javier Bardem\n",
      "15             Melissa McCarthy\n",
      "16           Scarlett Johansson\n",
      "17               Takeshi Kitano\n",
      "18                 Michael Pitt\n",
      "19                  Pilou Asbæk\n",
      "20  Chin Han (actor, born 1969)\n",
      "21             Juliette Binoche\n",
      "22               Bradley Cooper\n",
      "23                   Emma Stone\n",
      "24               Rachel McAdams\n",
      "25                  Bill Murray\n",
      "26               John Krasinski\n",
      "27                Danny McBride\n",
      "28                 Alec Baldwin\n",
      "29                Jeremy Irvine\n",
      "30              Jonny Beauchamp\n",
      "31                    Joey King\n",
      "32           Caleb Landry Jones\n",
      "33                  Matt Craven\n",
      "34         Jonathan Rhys Meyers\n",
      "35                  Ron Perlman\n",
      "36        Nikolaj Coster-Waldau\n",
      "37             Brenton Thwaites\n",
      "38             Chadwick Boseman\n",
      "39                  Élodie Yung\n",
      "40               Courtney Eaton\n",
      "41                 Rufus Sewell\n",
      "42                Gerard Butler\n",
      "43                Geoffrey Rush\n"
     ]
    }
   ],
   "source": [
    "# Create dataframe from list of actors from json file\n",
    "\n",
    "df = pd.DataFrame(\n",
    "    [actor for v in data.values() for actor in v[\"actors\"]], columns=[\"Actors\"]\n",
    ")\n",
    "print(df)"
   ]
  },
  {
   "cell_type": "code",
   "execution_count": 7,
   "metadata": {},
   "outputs": [
    {
     "name": "stdout",
     "output_type": "stream",
     "text": [
      "                                                     id\n",
      "0                                   Ernest Hogan – 1865\n",
      "1     Matilda Sissieretta Joyner Jones (also known a...\n",
      "2                                 George H. Reed – 1866\n",
      "3                                       Bob Cole – 1868\n",
      "4                              Madame Sul-Te-Wan – 1873\n",
      "...                                                 ...\n",
      "1045                                         Lydia West\n",
      "1046                              Laura White (actress)\n",
      "1047                                     Larissa Wilson\n",
      "1048                                     Letitia Wright\n",
      "1049                                      Angela Wynter\n",
      "\n",
      "[1050 rows x 1 columns]\n"
     ]
    }
   ],
   "source": [
    "# Create second dataframe, with colored actors\n",
    "\n",
    "# relative path, comment the other one if wish to change\n",
    "#black_actor_path = 'data/black_actors.csv' \n",
    "\n",
    "black_actor_path = 'D:/ITU/DataintheWild/Project/DITW_project-master/data/black_actors.csv'\n",
    "\n",
    "df_actor_list = pd.read_csv(black_actor_path, on_bad_lines='skip')\n",
    "df_actor_list.head()\n",
    "print(df_actor_list)"
   ]
  },
  {
   "cell_type": "code",
   "execution_count": 8,
   "metadata": {},
   "outputs": [
    {
     "ename": "AttributeError",
     "evalue": "'DataFrame' object has no attribute 'actor_name'",
     "output_type": "error",
     "traceback": [
      "\u001b[1;31m---------------------------------------------------------------------------\u001b[0m",
      "\u001b[1;31mAttributeError\u001b[0m                            Traceback (most recent call last)",
      "\u001b[1;32md:\\ITU\\DataintheWild\\Project\\DITW_project-master\\src\\a_dataframe copy.ipynb Cell 4\u001b[0m in \u001b[0;36m<cell line: 1>\u001b[1;34m()\u001b[0m\n\u001b[1;32m----> <a href='vscode-notebook-cell:/d%3A/ITU/DataintheWild/Project/DITW_project-master/src/a_dataframe%20copy.ipynb#W3sZmlsZQ%3D%3D?line=0'>1</a>\u001b[0m df\u001b[39m.\u001b[39massign(indf\u001b[39m=\u001b[39mdf\u001b[39m.\u001b[39;49mactor_name\u001b[39m.\u001b[39misin(df_actor_list\u001b[39m.\u001b[39mid)\u001b[39m.\u001b[39mastype(\u001b[39mint\u001b[39m))\n",
      "File \u001b[1;32md:\\Python\\lib\\site-packages\\pandas\\core\\generic.py:5902\u001b[0m, in \u001b[0;36mNDFrame.__getattr__\u001b[1;34m(self, name)\u001b[0m\n\u001b[0;32m   5895\u001b[0m \u001b[39mif\u001b[39;00m (\n\u001b[0;32m   5896\u001b[0m     name \u001b[39mnot\u001b[39;00m \u001b[39min\u001b[39;00m \u001b[39mself\u001b[39m\u001b[39m.\u001b[39m_internal_names_set\n\u001b[0;32m   5897\u001b[0m     \u001b[39mand\u001b[39;00m name \u001b[39mnot\u001b[39;00m \u001b[39min\u001b[39;00m \u001b[39mself\u001b[39m\u001b[39m.\u001b[39m_metadata\n\u001b[0;32m   5898\u001b[0m     \u001b[39mand\u001b[39;00m name \u001b[39mnot\u001b[39;00m \u001b[39min\u001b[39;00m \u001b[39mself\u001b[39m\u001b[39m.\u001b[39m_accessors\n\u001b[0;32m   5899\u001b[0m     \u001b[39mand\u001b[39;00m \u001b[39mself\u001b[39m\u001b[39m.\u001b[39m_info_axis\u001b[39m.\u001b[39m_can_hold_identifiers_and_holds_name(name)\n\u001b[0;32m   5900\u001b[0m ):\n\u001b[0;32m   5901\u001b[0m     \u001b[39mreturn\u001b[39;00m \u001b[39mself\u001b[39m[name]\n\u001b[1;32m-> 5902\u001b[0m \u001b[39mreturn\u001b[39;00m \u001b[39mobject\u001b[39;49m\u001b[39m.\u001b[39;49m\u001b[39m__getattribute__\u001b[39;49m(\u001b[39mself\u001b[39;49m, name)\n",
      "\u001b[1;31mAttributeError\u001b[0m: 'DataFrame' object has no attribute 'actor_name'"
     ]
    }
   ],
   "source": [
    "df.assign(indf=df.actor_name.isin(df_actor_list.id).astype(int))"
   ]
  },
  {
   "cell_type": "code",
   "execution_count": 13,
   "metadata": {},
   "outputs": [
    {
     "data": {
      "text/html": [
       "<div>\n",
       "<style scoped>\n",
       "    .dataframe tbody tr th:only-of-type {\n",
       "        vertical-align: middle;\n",
       "    }\n",
       "\n",
       "    .dataframe tbody tr th {\n",
       "        vertical-align: top;\n",
       "    }\n",
       "\n",
       "    .dataframe thead th {\n",
       "        text-align: right;\n",
       "    }\n",
       "</style>\n",
       "<table border=\"1\" class=\"dataframe\">\n",
       "  <thead>\n",
       "    <tr style=\"text-align: right;\">\n",
       "      <th></th>\n",
       "      <th>actor_name</th>\n",
       "      <th>actor_race</th>\n",
       "    </tr>\n",
       "  </thead>\n",
       "  <tbody>\n",
       "  </tbody>\n",
       "</table>\n",
       "</div>"
      ],
      "text/plain": [
       "Empty DataFrame\n",
       "Columns: [actor_name, actor_race]\n",
       "Index: []"
      ]
     },
     "execution_count": 13,
     "metadata": {},
     "output_type": "execute_result"
    }
   ],
   "source": [
    "\n"
   ]
  },
  {
   "cell_type": "code",
   "execution_count": null,
   "metadata": {},
   "outputs": [],
   "source": []
  },
  {
   "cell_type": "code",
   "execution_count": null,
   "metadata": {},
   "outputs": [],
   "source": []
  }
 ],
 "metadata": {
  "kernelspec": {
   "display_name": "Python 3.9.12 ('base')",
   "language": "python",
   "name": "python3"
  },
  "language_info": {
   "codemirror_mode": {
    "name": "ipython",
    "version": 3
   },
   "file_extension": ".py",
   "mimetype": "text/x-python",
   "name": "python",
   "nbconvert_exporter": "python",
   "pygments_lexer": "ipython3",
   "version": "3.9.12"
  },
  "orig_nbformat": 4,
  "vscode": {
   "interpreter": {
    "hash": "2469a70536e4d2335a2ea8907942d0699c37342a371ac185bdb5b0aa6f073890"
   }
  }
 },
 "nbformat": 4,
 "nbformat_minor": 2
}
